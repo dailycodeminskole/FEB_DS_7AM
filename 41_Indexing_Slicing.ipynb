{
 "cells": [
  {
   "cell_type": "markdown",
   "id": "03d11a7f",
   "metadata": {},
   "source": [
    "#  Indexing and Slicing"
   ]
  },
  {
   "cell_type": "code",
   "execution_count": 1,
   "id": "1e7547ea",
   "metadata": {},
   "outputs": [],
   "source": [
    "import numpy as np"
   ]
  },
  {
   "cell_type": "code",
   "execution_count": 2,
   "id": "6460b594",
   "metadata": {},
   "outputs": [],
   "source": [
    "arr1 = np.arange(10)"
   ]
  },
  {
   "cell_type": "code",
   "execution_count": 3,
   "id": "8733275d",
   "metadata": {},
   "outputs": [
    {
     "data": {
      "text/plain": [
       "array([0, 1, 2, 3, 4, 5, 6, 7, 8, 9])"
      ]
     },
     "execution_count": 3,
     "metadata": {},
     "output_type": "execute_result"
    }
   ],
   "source": [
    "arr1"
   ]
  },
  {
   "cell_type": "code",
   "execution_count": 4,
   "id": "480f99c1",
   "metadata": {},
   "outputs": [
    {
     "data": {
      "text/plain": [
       "0"
      ]
     },
     "execution_count": 4,
     "metadata": {},
     "output_type": "execute_result"
    }
   ],
   "source": [
    "arr1[0] #array_name[index position]"
   ]
  },
  {
   "cell_type": "code",
   "execution_count": 5,
   "id": "224bee84",
   "metadata": {},
   "outputs": [
    {
     "data": {
      "text/plain": [
       "5"
      ]
     },
     "execution_count": 5,
     "metadata": {},
     "output_type": "execute_result"
    }
   ],
   "source": [
    "arr1[5]"
   ]
  },
  {
   "cell_type": "code",
   "execution_count": 6,
   "id": "bbf1506c",
   "metadata": {},
   "outputs": [],
   "source": [
    "arr2 = np.arange(5,15)"
   ]
  },
  {
   "cell_type": "code",
   "execution_count": 7,
   "id": "91c1060d",
   "metadata": {},
   "outputs": [
    {
     "data": {
      "text/plain": [
       "array([ 5,  6,  7,  8,  9, 10, 11, 12, 13, 14])"
      ]
     },
     "execution_count": 7,
     "metadata": {},
     "output_type": "execute_result"
    }
   ],
   "source": [
    "arr2"
   ]
  },
  {
   "cell_type": "code",
   "execution_count": 8,
   "id": "aed3304d",
   "metadata": {},
   "outputs": [
    {
     "data": {
      "text/plain": [
       "10"
      ]
     },
     "execution_count": 8,
     "metadata": {},
     "output_type": "execute_result"
    }
   ],
   "source": [
    "arr2[5]"
   ]
  },
  {
   "cell_type": "code",
   "execution_count": 10,
   "id": "65d8d5e5",
   "metadata": {},
   "outputs": [
    {
     "data": {
      "text/plain": [
       "array([10, 11, 12, 13, 14])"
      ]
     },
     "execution_count": 10,
     "metadata": {},
     "output_type": "execute_result"
    }
   ],
   "source": [
    "arr2[5:11] #array_name[start :end]"
   ]
  },
  {
   "cell_type": "code",
   "execution_count": 11,
   "id": "4f436a08",
   "metadata": {},
   "outputs": [
    {
     "data": {
      "text/plain": [
       "array([10, 11, 12, 13, 14])"
      ]
     },
     "execution_count": 11,
     "metadata": {},
     "output_type": "execute_result"
    }
   ],
   "source": [
    "arr2[5:] #array_name[start :end]"
   ]
  },
  {
   "cell_type": "code",
   "execution_count": 12,
   "id": "75774ba6",
   "metadata": {},
   "outputs": [],
   "source": [
    "list_num = [11,22,33,44,55]"
   ]
  },
  {
   "cell_type": "code",
   "execution_count": 14,
   "id": "48c9c3d9",
   "metadata": {},
   "outputs": [
    {
     "data": {
      "text/plain": [
       "11"
      ]
     },
     "execution_count": 14,
     "metadata": {},
     "output_type": "execute_result"
    }
   ],
   "source": [
    "list_num[0]"
   ]
  },
  {
   "cell_type": "code",
   "execution_count": 16,
   "id": "9af13e56",
   "metadata": {},
   "outputs": [
    {
     "data": {
      "text/plain": [
       "[11, 22, 33]"
      ]
     },
     "execution_count": 16,
     "metadata": {},
     "output_type": "execute_result"
    }
   ],
   "source": [
    "list_num[:3]"
   ]
  },
  {
   "cell_type": "code",
   "execution_count": 17,
   "id": "5671a3cc",
   "metadata": {},
   "outputs": [
    {
     "data": {
      "text/plain": [
       "[22, 33, 44, 55]"
      ]
     },
     "execution_count": 17,
     "metadata": {},
     "output_type": "execute_result"
    }
   ],
   "source": [
    "list_num[1:]"
   ]
  },
  {
   "cell_type": "code",
   "execution_count": 18,
   "id": "2dd37019",
   "metadata": {},
   "outputs": [
    {
     "data": {
      "text/plain": [
       "[11, 22, 33, 44, 55]"
      ]
     },
     "execution_count": 18,
     "metadata": {},
     "output_type": "execute_result"
    }
   ],
   "source": [
    "list_num[:]"
   ]
  },
  {
   "cell_type": "code",
   "execution_count": 19,
   "id": "dc5c5d5e",
   "metadata": {},
   "outputs": [
    {
     "data": {
      "text/plain": [
       "[55, 44, 33, 22, 11]"
      ]
     },
     "execution_count": 19,
     "metadata": {},
     "output_type": "execute_result"
    }
   ],
   "source": [
    "list_num[::-1]"
   ]
  },
  {
   "cell_type": "code",
   "execution_count": 20,
   "id": "1c5242c5",
   "metadata": {},
   "outputs": [
    {
     "data": {
      "text/plain": [
       "array([ 5,  6,  7,  8,  9, 10, 11, 12, 13, 14])"
      ]
     },
     "execution_count": 20,
     "metadata": {},
     "output_type": "execute_result"
    }
   ],
   "source": [
    "arr2"
   ]
  },
  {
   "cell_type": "code",
   "execution_count": 21,
   "id": "fc8c4079",
   "metadata": {},
   "outputs": [
    {
     "data": {
      "text/plain": [
       "array([5, 6, 7, 8])"
      ]
     },
     "execution_count": 21,
     "metadata": {},
     "output_type": "execute_result"
    }
   ],
   "source": [
    "arr2[:4]"
   ]
  },
  {
   "cell_type": "code",
   "execution_count": 22,
   "id": "ad7f1bbf",
   "metadata": {},
   "outputs": [],
   "source": [
    "# 2D Arrays"
   ]
  },
  {
   "cell_type": "code",
   "execution_count": 25,
   "id": "83d6c033",
   "metadata": {},
   "outputs": [],
   "source": [
    "arr4 = np.arange(15).reshape(5,3)"
   ]
  },
  {
   "cell_type": "code",
   "execution_count": 26,
   "id": "43a92398",
   "metadata": {},
   "outputs": [
    {
     "data": {
      "text/plain": [
       "array([[ 0,  1,  2],\n",
       "       [ 3,  4,  5],\n",
       "       [ 6,  7,  8],\n",
       "       [ 9, 10, 11],\n",
       "       [12, 13, 14]])"
      ]
     },
     "execution_count": 26,
     "metadata": {},
     "output_type": "execute_result"
    }
   ],
   "source": [
    "arr4"
   ]
  },
  {
   "cell_type": "code",
   "execution_count": 31,
   "id": "035af558",
   "metadata": {},
   "outputs": [
    {
     "data": {
      "text/plain": [
       "2"
      ]
     },
     "execution_count": 31,
     "metadata": {},
     "output_type": "execute_result"
    }
   ],
   "source": [
    "arr4.ndim"
   ]
  },
  {
   "cell_type": "code",
   "execution_count": 36,
   "id": "0f7d52ac",
   "metadata": {},
   "outputs": [
    {
     "data": {
      "text/plain": [
       "array([3, 4, 5])"
      ]
     },
     "execution_count": 36,
     "metadata": {},
     "output_type": "execute_result"
    }
   ],
   "source": [
    "arr4[1]"
   ]
  },
  {
   "cell_type": "code",
   "execution_count": 39,
   "id": "dceb4d7d",
   "metadata": {},
   "outputs": [
    {
     "data": {
      "text/plain": [
       "array([12, 13, 14])"
      ]
     },
     "execution_count": 39,
     "metadata": {},
     "output_type": "execute_result"
    }
   ],
   "source": [
    "arr4[4]"
   ]
  },
  {
   "cell_type": "code",
   "execution_count": 44,
   "id": "08d2ad39",
   "metadata": {},
   "outputs": [
    {
     "data": {
      "text/plain": [
       "7"
      ]
     },
     "execution_count": 44,
     "metadata": {},
     "output_type": "execute_result"
    }
   ],
   "source": [
    "arr4[2][1]"
   ]
  },
  {
   "cell_type": "code",
   "execution_count": 46,
   "id": "87285714",
   "metadata": {},
   "outputs": [
    {
     "data": {
      "text/plain": [
       "7"
      ]
     },
     "execution_count": 46,
     "metadata": {},
     "output_type": "execute_result"
    }
   ],
   "source": [
    "arr4[2,1]"
   ]
  },
  {
   "cell_type": "code",
   "execution_count": 47,
   "id": "56361e36",
   "metadata": {},
   "outputs": [
    {
     "data": {
      "text/plain": [
       "6"
      ]
     },
     "execution_count": 47,
     "metadata": {},
     "output_type": "execute_result"
    }
   ],
   "source": [
    "arr4[2,0]"
   ]
  },
  {
   "cell_type": "code",
   "execution_count": 48,
   "id": "dd553299",
   "metadata": {},
   "outputs": [
    {
     "data": {
      "text/plain": [
       "14"
      ]
     },
     "execution_count": 48,
     "metadata": {},
     "output_type": "execute_result"
    }
   ],
   "source": [
    "arr4[4,2]"
   ]
  },
  {
   "cell_type": "code",
   "execution_count": 50,
   "id": "3d2a706a",
   "metadata": {},
   "outputs": [],
   "source": [
    "arr5 = np.arange(50).reshape(10,5)"
   ]
  },
  {
   "cell_type": "code",
   "execution_count": 51,
   "id": "9e29b14f",
   "metadata": {},
   "outputs": [
    {
     "data": {
      "text/plain": [
       "array([[ 0,  1,  2,  3,  4],\n",
       "       [ 5,  6,  7,  8,  9],\n",
       "       [10, 11, 12, 13, 14],\n",
       "       [15, 16, 17, 18, 19],\n",
       "       [20, 21, 22, 23, 24],\n",
       "       [25, 26, 27, 28, 29],\n",
       "       [30, 31, 32, 33, 34],\n",
       "       [35, 36, 37, 38, 39],\n",
       "       [40, 41, 42, 43, 44],\n",
       "       [45, 46, 47, 48, 49]])"
      ]
     },
     "execution_count": 51,
     "metadata": {},
     "output_type": "execute_result"
    }
   ],
   "source": [
    "arr5"
   ]
  },
  {
   "cell_type": "code",
   "execution_count": 52,
   "id": "ebb009ec",
   "metadata": {},
   "outputs": [
    {
     "data": {
      "text/plain": [
       "1"
      ]
     },
     "execution_count": 52,
     "metadata": {},
     "output_type": "execute_result"
    }
   ],
   "source": [
    "arr5[0,1]"
   ]
  },
  {
   "cell_type": "code",
   "execution_count": 53,
   "id": "2f489346",
   "metadata": {},
   "outputs": [
    {
     "data": {
      "text/plain": [
       "array([[0, 1, 2, 3, 4],\n",
       "       [5, 6, 7, 8, 9]])"
      ]
     },
     "execution_count": 53,
     "metadata": {},
     "output_type": "execute_result"
    }
   ],
   "source": [
    "arr5[0:2]"
   ]
  },
  {
   "cell_type": "code",
   "execution_count": 54,
   "id": "cba8f8b7",
   "metadata": {},
   "outputs": [
    {
     "data": {
      "text/plain": [
       "array([[2, 3, 4],\n",
       "       [7, 8, 9]])"
      ]
     },
     "execution_count": 54,
     "metadata": {},
     "output_type": "execute_result"
    }
   ],
   "source": [
    "arr5[0:2,2:]"
   ]
  },
  {
   "cell_type": "code",
   "execution_count": 55,
   "id": "d27e548f",
   "metadata": {},
   "outputs": [
    {
     "data": {
      "text/plain": [
       "array([[7, 8, 9]])"
      ]
     },
     "execution_count": 55,
     "metadata": {},
     "output_type": "execute_result"
    }
   ],
   "source": [
    "arr5[1:2,2:]"
   ]
  },
  {
   "cell_type": "code",
   "execution_count": 59,
   "id": "93ac2d0f",
   "metadata": {},
   "outputs": [],
   "source": [
    "arr6 = np.arange(10,100,10).reshape(3,3)"
   ]
  },
  {
   "cell_type": "code",
   "execution_count": 60,
   "id": "41e95bfe",
   "metadata": {},
   "outputs": [
    {
     "data": {
      "text/plain": [
       "9"
      ]
     },
     "execution_count": 60,
     "metadata": {},
     "output_type": "execute_result"
    }
   ],
   "source": [
    "arr6.size"
   ]
  },
  {
   "cell_type": "code",
   "execution_count": 61,
   "id": "b80e5de1",
   "metadata": {},
   "outputs": [
    {
     "data": {
      "text/plain": [
       "array([[10, 20, 30],\n",
       "       [40, 50, 60],\n",
       "       [70, 80, 90]])"
      ]
     },
     "execution_count": 61,
     "metadata": {},
     "output_type": "execute_result"
    }
   ],
   "source": [
    "arr6"
   ]
  },
  {
   "cell_type": "code",
   "execution_count": 63,
   "id": "1232cd59",
   "metadata": {},
   "outputs": [
    {
     "data": {
      "text/plain": [
       "array([70, 80])"
      ]
     },
     "execution_count": 63,
     "metadata": {},
     "output_type": "execute_result"
    }
   ],
   "source": [
    "# arr6[rows,coln] #70 80\n",
    "arr6[2,0:2]"
   ]
  },
  {
   "cell_type": "code",
   "execution_count": 64,
   "id": "e3e9fdc6",
   "metadata": {},
   "outputs": [
    {
     "data": {
      "text/plain": [
       "array([30, 60])"
      ]
     },
     "execution_count": 64,
     "metadata": {},
     "output_type": "execute_result"
    }
   ],
   "source": [
    "# arr6[rows,coln] #30 60\n",
    "arr6[0:2,2]"
   ]
  },
  {
   "cell_type": "code",
   "execution_count": null,
   "id": "e415a18d",
   "metadata": {},
   "outputs": [],
   "source": []
  }
 ],
 "metadata": {
  "kernelspec": {
   "display_name": "Python 3 (ipykernel)",
   "language": "python",
   "name": "python3"
  },
  "language_info": {
   "codemirror_mode": {
    "name": "ipython",
    "version": 3
   },
   "file_extension": ".py",
   "mimetype": "text/x-python",
   "name": "python",
   "nbconvert_exporter": "python",
   "pygments_lexer": "ipython3",
   "version": "3.9.13"
  }
 },
 "nbformat": 4,
 "nbformat_minor": 5
}
