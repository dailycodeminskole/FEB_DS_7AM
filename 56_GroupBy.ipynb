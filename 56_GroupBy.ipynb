{
 "cells": [
  {
   "cell_type": "code",
   "execution_count": 1,
   "id": "56798f9a",
   "metadata": {},
   "outputs": [],
   "source": [
    "import numpy as np\n",
    "import pandas as pd"
   ]
  },
  {
   "cell_type": "code",
   "execution_count": 3,
   "id": "2f23876b",
   "metadata": {},
   "outputs": [],
   "source": [
    "company = pd.read_csv('Fortune 500 2017 - Fortune 500.csv')"
   ]
  },
  {
   "cell_type": "code",
   "execution_count": 4,
   "id": "026c40ea",
   "metadata": {},
   "outputs": [
    {
     "data": {
      "text/plain": [
       "(500, 23)"
      ]
     },
     "execution_count": 4,
     "metadata": {},
     "output_type": "execute_result"
    }
   ],
   "source": [
    "company.shape"
   ]
  },
  {
   "cell_type": "code",
   "execution_count": 6,
   "id": "9c63b0d6",
   "metadata": {},
   "outputs": [
    {
     "name": "stdout",
     "output_type": "stream",
     "text": [
      "<class 'pandas.core.frame.DataFrame'>\n",
      "RangeIndex: 500 entries, 0 to 499\n",
      "Data columns (total 23 columns):\n",
      " #   Column       Non-Null Count  Dtype  \n",
      "---  ------       --------------  -----  \n",
      " 0   Rank         500 non-null    int64  \n",
      " 1   Title        500 non-null    object \n",
      " 2   Website      500 non-null    object \n",
      " 3   Employees    500 non-null    int64  \n",
      " 4   Sector       500 non-null    object \n",
      " 5   Industry     500 non-null    object \n",
      " 6   Hqlocation   500 non-null    object \n",
      " 7   Hqaddr       500 non-null    object \n",
      " 8   Hqcity       500 non-null    object \n",
      " 9   Hqstate      500 non-null    object \n",
      " 10  Hqzip        500 non-null    int64  \n",
      " 11  Hqtel        500 non-null    object \n",
      " 12  Ceo          500 non-null    object \n",
      " 13  Ceo-title    500 non-null    object \n",
      " 14  Address      500 non-null    object \n",
      " 15  Ticker       500 non-null    object \n",
      " 16  Fullname     500 non-null    object \n",
      " 17  Revenues     500 non-null    int64  \n",
      " 18  Revchange    500 non-null    float64\n",
      " 19  Profits      500 non-null    float64\n",
      " 20  Prftchange   500 non-null    object \n",
      " 21  Assets       500 non-null    int64  \n",
      " 22  Totshequity  500 non-null    float64\n",
      "dtypes: float64(3), int64(5), object(15)\n",
      "memory usage: 90.0+ KB\n"
     ]
    }
   ],
   "source": [
    "company.info()"
   ]
  },
  {
   "cell_type": "code",
   "execution_count": 7,
   "id": "ab69e4c6",
   "metadata": {},
   "outputs": [
    {
     "data": {
      "text/html": [
       "<div>\n",
       "<style scoped>\n",
       "    .dataframe tbody tr th:only-of-type {\n",
       "        vertical-align: middle;\n",
       "    }\n",
       "\n",
       "    .dataframe tbody tr th {\n",
       "        vertical-align: top;\n",
       "    }\n",
       "\n",
       "    .dataframe thead th {\n",
       "        text-align: right;\n",
       "    }\n",
       "</style>\n",
       "<table border=\"1\" class=\"dataframe\">\n",
       "  <thead>\n",
       "    <tr style=\"text-align: right;\">\n",
       "      <th></th>\n",
       "      <th>Rank</th>\n",
       "      <th>Employees</th>\n",
       "      <th>Hqzip</th>\n",
       "      <th>Revenues</th>\n",
       "      <th>Revchange</th>\n",
       "      <th>Profits</th>\n",
       "      <th>Assets</th>\n",
       "      <th>Totshequity</th>\n",
       "    </tr>\n",
       "  </thead>\n",
       "  <tbody>\n",
       "    <tr>\n",
       "      <th>count</th>\n",
       "      <td>500.000000</td>\n",
       "      <td>5.000000e+02</td>\n",
       "      <td>500.000000</td>\n",
       "      <td>500.000000</td>\n",
       "      <td>500.00000</td>\n",
       "      <td>500.000000</td>\n",
       "      <td>5.000000e+02</td>\n",
       "      <td>500.0000</td>\n",
       "    </tr>\n",
       "    <tr>\n",
       "      <th>mean</th>\n",
       "      <td>250.492000</td>\n",
       "      <td>5.635013e+04</td>\n",
       "      <td>46791.714000</td>\n",
       "      <td>24111.748000</td>\n",
       "      <td>3.75800</td>\n",
       "      <td>1779.479800</td>\n",
       "      <td>8.038934e+04</td>\n",
       "      <td>13640.1470</td>\n",
       "    </tr>\n",
       "    <tr>\n",
       "      <th>std</th>\n",
       "      <td>144.477366</td>\n",
       "      <td>1.234520e+05</td>\n",
       "      <td>30160.384765</td>\n",
       "      <td>38337.353337</td>\n",
       "      <td>19.96748</td>\n",
       "      <td>3937.558721</td>\n",
       "      <td>2.704257e+05</td>\n",
       "      <td>30523.1538</td>\n",
       "    </tr>\n",
       "    <tr>\n",
       "      <th>min</th>\n",
       "      <td>1.000000</td>\n",
       "      <td>8.300000e+01</td>\n",
       "      <td>1104.000000</td>\n",
       "      <td>5145.000000</td>\n",
       "      <td>-57.50000</td>\n",
       "      <td>-6177.000000</td>\n",
       "      <td>4.370000e+02</td>\n",
       "      <td>-12688.0000</td>\n",
       "    </tr>\n",
       "    <tr>\n",
       "      <th>25%</th>\n",
       "      <td>125.750000</td>\n",
       "      <td>1.190000e+04</td>\n",
       "      <td>19099.000000</td>\n",
       "      <td>7245.000000</td>\n",
       "      <td>-3.82500</td>\n",
       "      <td>235.725000</td>\n",
       "      <td>8.436500e+03</td>\n",
       "      <td>1997.5000</td>\n",
       "    </tr>\n",
       "    <tr>\n",
       "      <th>50%</th>\n",
       "      <td>250.500000</td>\n",
       "      <td>2.500000e+04</td>\n",
       "      <td>46244.500000</td>\n",
       "      <td>11384.000000</td>\n",
       "      <td>1.90000</td>\n",
       "      <td>683.600000</td>\n",
       "      <td>1.932450e+04</td>\n",
       "      <td>4981.0000</td>\n",
       "    </tr>\n",
       "    <tr>\n",
       "      <th>75%</th>\n",
       "      <td>375.250000</td>\n",
       "      <td>5.682525e+04</td>\n",
       "      <td>75045.000000</td>\n",
       "      <td>22605.250000</td>\n",
       "      <td>7.32500</td>\n",
       "      <td>1770.775000</td>\n",
       "      <td>4.812600e+04</td>\n",
       "      <td>12467.7500</td>\n",
       "    </tr>\n",
       "    <tr>\n",
       "      <th>max</th>\n",
       "      <td>500.000000</td>\n",
       "      <td>2.300000e+06</td>\n",
       "      <td>98188.000000</td>\n",
       "      <td>485873.000000</td>\n",
       "      <td>197.30000</td>\n",
       "      <td>45687.000000</td>\n",
       "      <td>3.287968e+06</td>\n",
       "      <td>283001.0000</td>\n",
       "    </tr>\n",
       "  </tbody>\n",
       "</table>\n",
       "</div>"
      ],
      "text/plain": [
       "             Rank     Employees         Hqzip       Revenues  Revchange  \\\n",
       "count  500.000000  5.000000e+02    500.000000     500.000000  500.00000   \n",
       "mean   250.492000  5.635013e+04  46791.714000   24111.748000    3.75800   \n",
       "std    144.477366  1.234520e+05  30160.384765   38337.353337   19.96748   \n",
       "min      1.000000  8.300000e+01   1104.000000    5145.000000  -57.50000   \n",
       "25%    125.750000  1.190000e+04  19099.000000    7245.000000   -3.82500   \n",
       "50%    250.500000  2.500000e+04  46244.500000   11384.000000    1.90000   \n",
       "75%    375.250000  5.682525e+04  75045.000000   22605.250000    7.32500   \n",
       "max    500.000000  2.300000e+06  98188.000000  485873.000000  197.30000   \n",
       "\n",
       "            Profits        Assets  Totshequity  \n",
       "count    500.000000  5.000000e+02     500.0000  \n",
       "mean    1779.479800  8.038934e+04   13640.1470  \n",
       "std     3937.558721  2.704257e+05   30523.1538  \n",
       "min    -6177.000000  4.370000e+02  -12688.0000  \n",
       "25%      235.725000  8.436500e+03    1997.5000  \n",
       "50%      683.600000  1.932450e+04    4981.0000  \n",
       "75%     1770.775000  4.812600e+04   12467.7500  \n",
       "max    45687.000000  3.287968e+06  283001.0000  "
      ]
     },
     "execution_count": 7,
     "metadata": {},
     "output_type": "execute_result"
    }
   ],
   "source": [
    "company.describe()"
   ]
  },
  {
   "cell_type": "code",
   "execution_count": 10,
   "id": "64de3f71",
   "metadata": {},
   "outputs": [],
   "source": [
    "sector = company.groupby('Sector')"
   ]
  },
  {
   "cell_type": "code",
   "execution_count": 11,
   "id": "0bde284e",
   "metadata": {},
   "outputs": [
    {
     "data": {
      "text/plain": [
       "<pandas.core.groupby.generic.DataFrameGroupBy object at 0x000001AA44257FA0>"
      ]
     },
     "execution_count": 11,
     "metadata": {},
     "output_type": "execute_result"
    }
   ],
   "source": [
    "sector"
   ]
  },
  {
   "cell_type": "code",
   "execution_count": null,
   "id": "375ceff3",
   "metadata": {},
   "outputs": [],
   "source": []
  }
 ],
 "metadata": {
  "kernelspec": {
   "display_name": "Python 3 (ipykernel)",
   "language": "python",
   "name": "python3"
  },
  "language_info": {
   "codemirror_mode": {
    "name": "ipython",
    "version": 3
   },
   "file_extension": ".py",
   "mimetype": "text/x-python",
   "name": "python",
   "nbconvert_exporter": "python",
   "pygments_lexer": "ipython3",
   "version": "3.9.13"
  }
 },
 "nbformat": 4,
 "nbformat_minor": 5
}
