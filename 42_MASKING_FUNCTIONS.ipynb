{
 "cells": [
  {
   "cell_type": "markdown",
   "id": "5617ce18",
   "metadata": {},
   "source": [
    "# Boolean Masking in arrays"
   ]
  },
  {
   "cell_type": "markdown",
   "id": "6c1cd444",
   "metadata": {},
   "source": [
    "# fancy Indexing"
   ]
  },
  {
   "cell_type": "code",
   "execution_count": 1,
   "id": "759da7c4",
   "metadata": {},
   "outputs": [],
   "source": [
    "import numpy as np"
   ]
  },
  {
   "cell_type": "code",
   "execution_count": 2,
   "id": "d0f238d2",
   "metadata": {},
   "outputs": [],
   "source": [
    "arr1 = np.arange(12).reshape(3,4)"
   ]
  },
  {
   "cell_type": "code",
   "execution_count": 3,
   "id": "b94f5e9f",
   "metadata": {},
   "outputs": [
    {
     "data": {
      "text/plain": [
       "array([[ 0,  1,  2,  3],\n",
       "       [ 4,  5,  6,  7],\n",
       "       [ 8,  9, 10, 11]])"
      ]
     },
     "execution_count": 3,
     "metadata": {},
     "output_type": "execute_result"
    }
   ],
   "source": [
    "arr1"
   ]
  },
  {
   "cell_type": "code",
   "execution_count": 8,
   "id": "ef4361ca",
   "metadata": {},
   "outputs": [
    {
     "name": "stdout",
     "output_type": "stream",
     "text": [
      "False\n",
      "True\n",
      "True\n"
     ]
    }
   ],
   "source": [
    "list_num = [10,58,75]\n",
    "# list_num > 35 not supported error\n",
    "\n",
    "for i in list_num:\n",
    "    print(i>35)"
   ]
  },
  {
   "cell_type": "code",
   "execution_count": 9,
   "id": "c7c3d6be",
   "metadata": {},
   "outputs": [],
   "source": [
    "arr2 = np.array(list_num)"
   ]
  },
  {
   "cell_type": "code",
   "execution_count": 10,
   "id": "16456610",
   "metadata": {},
   "outputs": [
    {
     "data": {
      "text/plain": [
       "array([10, 58, 75])"
      ]
     },
     "execution_count": 10,
     "metadata": {},
     "output_type": "execute_result"
    }
   ],
   "source": [
    "arr2"
   ]
  },
  {
   "cell_type": "code",
   "execution_count": 11,
   "id": "e5d9c78e",
   "metadata": {},
   "outputs": [
    {
     "data": {
      "text/plain": [
       "array([False,  True,  True])"
      ]
     },
     "execution_count": 11,
     "metadata": {},
     "output_type": "execute_result"
    }
   ],
   "source": [
    "arr2>35"
   ]
  },
  {
   "cell_type": "code",
   "execution_count": 12,
   "id": "af77808b",
   "metadata": {},
   "outputs": [
    {
     "data": {
      "text/plain": [
       "array([ True, False, False])"
      ]
     },
     "execution_count": 12,
     "metadata": {},
     "output_type": "execute_result"
    }
   ],
   "source": [
    "arr2<35"
   ]
  },
  {
   "cell_type": "code",
   "execution_count": 15,
   "id": "5e384a36",
   "metadata": {
    "scrolled": true
   },
   "outputs": [
    {
     "data": {
      "text/plain": [
       "array([[ True, False,  True, False],\n",
       "       [ True, False,  True, False],\n",
       "       [ True, False,  True, False]])"
      ]
     },
     "execution_count": 15,
     "metadata": {},
     "output_type": "execute_result"
    }
   ],
   "source": [
    "arr1 % 2 == 0"
   ]
  },
  {
   "cell_type": "code",
   "execution_count": 16,
   "id": "edc9572d",
   "metadata": {},
   "outputs": [
    {
     "data": {
      "text/plain": [
       "array([[ 0,  1,  2,  3],\n",
       "       [ 4,  5,  6,  7],\n",
       "       [ 8,  9, 10, 11]])"
      ]
     },
     "execution_count": 16,
     "metadata": {},
     "output_type": "execute_result"
    }
   ],
   "source": [
    "arr1"
   ]
  },
  {
   "cell_type": "code",
   "execution_count": 17,
   "id": "9109bba8",
   "metadata": {},
   "outputs": [
    {
     "data": {
      "text/plain": [
       "array([[ True, False, False,  True],\n",
       "       [False, False,  True, False],\n",
       "       [False,  True, False, False]])"
      ]
     },
     "execution_count": 17,
     "metadata": {},
     "output_type": "execute_result"
    }
   ],
   "source": [
    "arr1 % 3 == 0"
   ]
  },
  {
   "cell_type": "code",
   "execution_count": 18,
   "id": "19ed6e85",
   "metadata": {},
   "outputs": [
    {
     "data": {
      "text/plain": [
       "array([[ True, False, False, False],\n",
       "       [False, False,  True, False],\n",
       "       [False, False, False, False]])"
      ]
     },
     "execution_count": 18,
     "metadata": {},
     "output_type": "execute_result"
    }
   ],
   "source": [
    "(arr1 % 2 == 0) & (arr1 % 3 == 0)"
   ]
  },
  {
   "cell_type": "code",
   "execution_count": 19,
   "id": "752e1658",
   "metadata": {},
   "outputs": [
    {
     "data": {
      "text/plain": [
       "array([[ True, False,  True,  True],\n",
       "       [ True, False,  True, False],\n",
       "       [ True,  True,  True, False]])"
      ]
     },
     "execution_count": 19,
     "metadata": {},
     "output_type": "execute_result"
    }
   ],
   "source": [
    "(arr1 % 2 == 0) | (arr1 % 3 == 0)"
   ]
  },
  {
   "cell_type": "code",
   "execution_count": 20,
   "id": "ca383611",
   "metadata": {},
   "outputs": [
    {
     "data": {
      "text/plain": [
       "array([ 0,  2,  3,  4,  6,  8,  9, 10])"
      ]
     },
     "execution_count": 20,
     "metadata": {},
     "output_type": "execute_result"
    }
   ],
   "source": [
    "arr1[(arr1 % 2 == 0) | (arr1 % 3 == 0)]"
   ]
  },
  {
   "cell_type": "code",
   "execution_count": 21,
   "id": "9d65d09c",
   "metadata": {},
   "outputs": [
    {
     "data": {
      "text/plain": [
       "array([ 0,  2,  4,  6,  8, 10])"
      ]
     },
     "execution_count": 21,
     "metadata": {},
     "output_type": "execute_result"
    }
   ],
   "source": [
    "arr1[arr1 % 2 == 0]"
   ]
  },
  {
   "cell_type": "code",
   "execution_count": 22,
   "id": "60bed8d4",
   "metadata": {},
   "outputs": [],
   "source": [
    "div_2_3 = (arr1 % 2 == 0) & (arr1 % 3 == 0)#saving the mask in a variable"
   ]
  },
  {
   "cell_type": "code",
   "execution_count": 24,
   "id": "d7b48e58",
   "metadata": {},
   "outputs": [
    {
     "data": {
      "text/plain": [
       "array([0, 6])"
      ]
     },
     "execution_count": 24,
     "metadata": {},
     "output_type": "execute_result"
    }
   ],
   "source": [
    "arr1[div_2_3]"
   ]
  },
  {
   "cell_type": "markdown",
   "id": "ddd94fc3",
   "metadata": {},
   "source": [
    "# Universal function"
   ]
  },
  {
   "cell_type": "code",
   "execution_count": 25,
   "id": "22ec29f8",
   "metadata": {},
   "outputs": [],
   "source": [
    "emp_sal = [11000,22000,44000]"
   ]
  },
  {
   "cell_type": "code",
   "execution_count": 26,
   "id": "ac505d92",
   "metadata": {},
   "outputs": [
    {
     "name": "stdout",
     "output_type": "stream",
     "text": [
      "16000\n",
      "27000\n",
      "49000\n"
     ]
    }
   ],
   "source": [
    "for i in emp_sal:\n",
    "    print(i+5000)"
   ]
  },
  {
   "cell_type": "code",
   "execution_count": 27,
   "id": "783319aa",
   "metadata": {},
   "outputs": [
    {
     "ename": "TypeError",
     "evalue": "can only concatenate list (not \"int\") to list",
     "output_type": "error",
     "traceback": [
      "\u001b[1;31m---------------------------------------------------------------------------\u001b[0m",
      "\u001b[1;31mTypeError\u001b[0m                                 Traceback (most recent call last)",
      "\u001b[1;32m~\\AppData\\Local\\Temp\\ipykernel_23772\\2590390998.py\u001b[0m in \u001b[0;36m<module>\u001b[1;34m\u001b[0m\n\u001b[1;32m----> 1\u001b[1;33m \u001b[0memp_sal\u001b[0m\u001b[1;33m+\u001b[0m\u001b[1;36m5000\u001b[0m\u001b[1;33m\u001b[0m\u001b[1;33m\u001b[0m\u001b[0m\n\u001b[0m",
      "\u001b[1;31mTypeError\u001b[0m: can only concatenate list (not \"int\") to list"
     ]
    }
   ],
   "source": [
    "emp_sal+5000"
   ]
  },
  {
   "cell_type": "code",
   "execution_count": 28,
   "id": "74c80cd7",
   "metadata": {},
   "outputs": [],
   "source": [
    "arr3 = np.array(emp_sal)"
   ]
  },
  {
   "cell_type": "code",
   "execution_count": 29,
   "id": "8442edb3",
   "metadata": {},
   "outputs": [
    {
     "data": {
      "text/plain": [
       "array([16000, 27000, 49000])"
      ]
     },
     "execution_count": 29,
     "metadata": {},
     "output_type": "execute_result"
    }
   ],
   "source": [
    "arr3+5000"
   ]
  },
  {
   "cell_type": "code",
   "execution_count": 30,
   "id": "350332f7",
   "metadata": {},
   "outputs": [
    {
     "data": {
      "text/plain": [
       "array([ 6000, 17000, 39000])"
      ]
     },
     "execution_count": 30,
     "metadata": {},
     "output_type": "execute_result"
    }
   ],
   "source": [
    "arr3-5000"
   ]
  },
  {
   "cell_type": "code",
   "execution_count": 31,
   "id": "04e7a000",
   "metadata": {},
   "outputs": [
    {
     "data": {
      "text/plain": [
       "array([13200., 26400., 52800.])"
      ]
     },
     "execution_count": 31,
     "metadata": {},
     "output_type": "execute_result"
    }
   ],
   "source": [
    "arr3*1.2 #20% sal increment"
   ]
  },
  {
   "cell_type": "code",
   "execution_count": 32,
   "id": "570d97f9",
   "metadata": {},
   "outputs": [
    {
     "data": {
      "text/plain": [
       "array([11., 22., 44.])"
      ]
     },
     "execution_count": 32,
     "metadata": {},
     "output_type": "execute_result"
    }
   ],
   "source": [
    "arr3/1000"
   ]
  },
  {
   "cell_type": "code",
   "execution_count": 33,
   "id": "8fb280bb",
   "metadata": {},
   "outputs": [
    {
     "data": {
      "text/plain": [
       "array([ 916.66666667, 1833.33333333, 3666.66666667])"
      ]
     },
     "execution_count": 33,
     "metadata": {},
     "output_type": "execute_result"
    }
   ],
   "source": [
    "arr3/12 # annual to monthly "
   ]
  },
  {
   "cell_type": "code",
   "execution_count": 34,
   "id": "ded22296",
   "metadata": {},
   "outputs": [],
   "source": [
    "list_val = [11,22,33,'a','b']\n",
    "arr5 = np.array(list_val)"
   ]
  },
  {
   "cell_type": "code",
   "execution_count": 35,
   "id": "2db83ca3",
   "metadata": {},
   "outputs": [
    {
     "data": {
      "text/plain": [
       "array(['11', '22', '33', 'a', 'b'], dtype='<U11')"
      ]
     },
     "execution_count": 35,
     "metadata": {},
     "output_type": "execute_result"
    }
   ],
   "source": [
    "arr5"
   ]
  },
  {
   "cell_type": "code",
   "execution_count": 37,
   "id": "221f52ba",
   "metadata": {},
   "outputs": [],
   "source": [
    "# arr5/2 #  not supported error"
   ]
  },
  {
   "cell_type": "code",
   "execution_count": null,
   "id": "82a5e5c2",
   "metadata": {},
   "outputs": [],
   "source": []
  }
 ],
 "metadata": {
  "kernelspec": {
   "display_name": "Python 3 (ipykernel)",
   "language": "python",
   "name": "python3"
  },
  "language_info": {
   "codemirror_mode": {
    "name": "ipython",
    "version": 3
   },
   "file_extension": ".py",
   "mimetype": "text/x-python",
   "name": "python",
   "nbconvert_exporter": "python",
   "pygments_lexer": "ipython3",
   "version": "3.9.13"
  }
 },
 "nbformat": 4,
 "nbformat_minor": 5
}
